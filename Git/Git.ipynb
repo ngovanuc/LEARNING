{
 "cells": [
  {
   "cell_type": "markdown",
   "metadata": {},
   "source": [
    "git --version"
   ]
  },
  {
   "cell_type": "markdown",
   "metadata": {},
   "source": [
    "**Configure Git**\n",
    "\n",
    "git config --global user.name \"w3schools-test\"\n",
    "\n",
    "git config --global user.email \"test@w3schools.com\""
   ]
  },
  {
   "cell_type": "markdown",
   "metadata": {},
   "source": [
    "**khởi tạo Git trên thư mục đó**\n",
    "\n",
    "git init "
   ]
  },
  {
   "cell_type": "markdown",
   "metadata": {},
   "source": [
    "**Git status xem trạng thái**\n",
    "\n",
    "git status"
   ]
  },
  {
   "cell_type": "markdown",
   "metadata": {},
   "source": [
    "**Add file to staging area**\n",
    "\n",
    "git add index.html"
   ]
  },
  {
   "cell_type": "markdown",
   "metadata": {},
   "source": [
    "**Add all files to git**\n",
    "\n",
    "git add --all"
   ]
  },
  {
   "cell_type": "markdown",
   "metadata": {},
   "source": [
    "**Commit changes to repository**\n",
    "\n",
    "git commit -m \"Commit changes... bla bla\""
   ]
  },
  {
   "cell_type": "markdown",
   "metadata": {},
   "source": [
    "**Kiểm tra trạng thái của kho lưu trữ, sử dụng tùy chọn --short để xem những thay đổi theo cách nhỏ gọn hơn**\n",
    "\n",
    "git status --short\n",
    "\n",
    "Note: Short status flags are:\n",
    "\n",
    "?? - Untracked files\n",
    "\n",
    "A - Files added to stage\n",
    "\n",
    "M - Modified files\n",
    "\n",
    "D - Deleted files"
   ]
  },
  {
   "cell_type": "markdown",
   "metadata": {},
   "source": [
    "**Đẩy nhanh chóng lên git mà không cần qua staging area**\n",
    "\n",
    "git commit -a -m \"Updated index.html with a new line\""
   ]
  },
  {
   "cell_type": "markdown",
   "metadata": {},
   "source": [
    "**Git log**\n",
    "\n",
    "git log"
   ]
  },
  {
   "cell_type": "markdown",
   "metadata": {},
   "source": [
    "**Git commit -m \"message\"**\n",
    "\n",
    "git commit -help"
   ]
  },
  {
   "cell_type": "markdown",
   "metadata": {},
   "source": [
    "**Git help**\n",
    "\n",
    "git --help"
   ]
  },
  {
   "cell_type": "markdown",
   "metadata": {},
   "source": [
    "**Create new git branch**\n",
    "\n",
    "git branch newname_of_branch"
   ]
  },
  {
   "cell_type": "markdown",
   "metadata": {},
   "source": [
    "**Kiểm tra xem đã tạo thành công branch mới hay chưa**\n",
    "\n",
    "git checkout hello-world-images"
   ]
  },
  {
   "cell_type": "markdown",
   "metadata": {},
   "source": [
    "**Kiểm tra xem đang ở branch nào**\n",
    "\n",
    "git branch"
   ]
  },
  {
   "cell_type": "markdown",
   "metadata": {},
   "source": [
    "**Cách để chuyển (switch) sang một branch bất kỳ**\n",
    "\n",
    "git checkout master\n",
    "\n",
    "-> Switched to branch 'master'"
   ]
  },
  {
   "cell_type": "markdown",
   "metadata": {},
   "source": [
    "**Emergency Branch**\n",
    "\n",
    "\"Khi muốn tạo một nhánh để sửa lỗi nhanh chóng, có thể tạo một nhánh tạm thời với tên emergency-fix:\"\n",
    "\n",
    "git checkout -b emergency-fix\n",
    "\n",
    "-> Switched to a new branch 'emergency-fix'"
   ]
  },
  {
   "cell_type": "markdown",
   "metadata": {},
   "source": [
    "**Merge Branches: hợp nhất nhánh emergency-fix vào nhánh master**\n",
    "\n",
    "git checkout master\n",
    "\n",
    "-> Switched to branch 'master'\n",
    "\n",
    "git merge emergency-fix"
   ]
  },
  {
   "cell_type": "markdown",
   "metadata": {},
   "source": [
    "**Xóa một branch vĩnh viễn**\n",
    "\n",
    "git branch -d emergency-fix\n",
    "\n",
    "-> Deleted branch emergency-fix (was dfa79db)."
   ]
  },
  {
   "cell_type": "markdown",
   "metadata": {},
   "source": [
    "**Merge Conflict**"
   ]
  },
  {
   "cell_type": "markdown",
   "metadata": {},
   "source": [
    "**Pull from git**\n",
    "\n",
    "Cụ thể, git pull thực hiện hai bước chính:\n",
    "\n",
    "    - Fetch: Lấy dữ liệu mới từ kho lưu trữ từ xa.\n",
    "    - Merge: Kết hợp các thay đổi mới đó vào nhánh hiện tại của bạn.\n",
    "\n",
    "\n",
    "git pull <remote> <branch>\n",
    "\n",
    "=> git pull origin main: Lấy thay đổi từ nhánh main của kho từ xa origin và gộp vào nhánh hiện tại.\n",
    "\n",
    "- Trước khi dùng git pull, bạn nên đảm bảo rằng nhánh hiện tại của bạn không có thay đổi chưa commit, để tránh xung đột khi merge."
   ]
  },
  {
   "cell_type": "markdown",
   "metadata": {},
   "source": [
    "**Liệt kê các banch trên git**\n",
    "\n",
    "git branch -a"
   ]
  },
  {
   "cell_type": "markdown",
   "metadata": {},
   "source": [
    "**Pulling a Branch from GitHub**\n",
    "\n",
    "- Đảm bảo mọi thứ được update\n",
    "- Không có file nào trong staging area\n",
    "- chuyển tới branch cần pull bằng lệnh git checkout\n",
    "- pull bằng lệnh git pull\n",
    "\n",
    "git pull"
   ]
  },
  {
   "cell_type": "markdown",
   "metadata": {},
   "source": [
    "**Push a Branch to GitHub**\n",
    "\n",
    "- Tạo một branch mới trên local\n",
    "\n",
    "git checkout -b update-readme\n",
    "\n",
    "-> Switched to a new branch 'update-readme'\n",
    "\n",
    "- Check status nếu cần\n",
    "\n",
    "git status\n",
    "\n",
    "- Thực hiện add file và commit file cần thiết\n",
    "\n",
    "- Push branch lên remote\n",
    "\n",
    "git push origin update-readme"
   ]
  },
  {
   "cell_type": "markdown",
   "metadata": {},
   "source": [
    "Git flow\n",
    "\n",
    "The GitHub flow works like this:\n",
    "\n",
    "    - Create a new Branch\n",
    "    - Make changes and add Commits\n",
    "    - Open a Pull Request\n",
    "    - Review\n",
    "    - Deploy\n",
    "    - Merge"
   ]
  },
  {
   "cell_type": "markdown",
   "metadata": {},
   "source": [
    "**Git clone**\n",
    "\n",
    "git clone https://github.com/w3schools-test/w3schools-test.github.io.git"
   ]
  },
  {
   "cell_type": "markdown",
   "metadata": {},
   "source": [
    "**Git Ignore**\n",
    "\n",
    "https://www.w3schools.com/git/git_ignore.asp?remote=github"
   ]
  },
  {
   "cell_type": "markdown",
   "metadata": {},
   "source": [
    "**Git reset**\n",
    "\n",
    "- Tìm lại các phiên bản thay đổi bằng:\n",
    "\n",
    "git log --oneline\n",
    "\n",
    "- Chọn một phiên bản để trở về giai đoạn đó\n",
    "\n",
    "git reset 9a9add8"
   ]
  }
 ],
 "metadata": {
  "language_info": {
   "name": "python"
  }
 },
 "nbformat": 4,
 "nbformat_minor": 2
}
